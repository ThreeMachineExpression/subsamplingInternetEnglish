{
  "nbformat": 4,
  "nbformat_minor": 0,
  "metadata": {
    "colab": {
      "name": "Subsampling Internet English.ipynb",
      "provenance": [],
      "toc_visible": true,
      "authorship_tag": "ABX9TyPyAUvNMsI7RuoVnL4sWSmP",
      "include_colab_link": true
    },
    "kernelspec": {
      "name": "python3",
      "display_name": "Python 3"
    }
  },
  "cells": [
    {
      "cell_type": "markdown",
      "metadata": {
        "id": "view-in-github",
        "colab_type": "text"
      },
      "source": [
        "<a href=\"https://colab.research.google.com/github/ThreeMachineExpression/subsamplingInternetEnglish/blob/main/Subsampling_Internet_English.ipynb\" target=\"_parent\"><img src=\"https://colab.research.google.com/assets/colab-badge.svg\" alt=\"Open In Colab\"/></a>"
      ]
    },
    {
      "cell_type": "markdown",
      "metadata": {
        "id": "J7YM5QLJSV9S"
      },
      "source": [
        "Simulates picking random words from the English-language, early aughts internet.\r\n",
        "\r\n",
        "Uses word frequency data compiled by Rachael Tatman from the Google Web Trillion Word Corpus - see https://www.kaggle.com/rtatman/english-word-frequency for more information on the dataset.\r\n",
        "\r\n",
        "Wordlist and resulting output are unfiltered and the generator may output offensive garbage. "
      ]
    },
    {
      "cell_type": "markdown",
      "metadata": {
        "id": "V5N_4RMNGhG_"
      },
      "source": [
        "# Setup: run these cells first"
      ]
    },
    {
      "cell_type": "code",
      "metadata": {
        "id": "56QPUiqvf7KV"
      },
      "source": [
        "# Constants & Imports\r\n",
        "import csv\r\n",
        "import random\r\n",
        "import textwrap\r\n",
        "import collections\r\n",
        "\r\n",
        "# length of sample to generate\r\n",
        "kNumWords = 120 \r\n",
        "\r\n",
        "# URL of word frequency data (format assumptions are hard-coded)\r\n",
        "kwordCountURL = \"https://github.com/ThreeMachineExpression/subsamplingInternetEnglish/blob/main/unigram_freq.csv?raw=true\"\r\n",
        "# local filename for word frequency data\r\n",
        "kwordCountFile = \"wordCount.csv\""
      ],
      "execution_count": 94,
      "outputs": []
    },
    {
      "cell_type": "code",
      "metadata": {
        "colab": {
          "base_uri": "https://localhost:8080/"
        },
        "id": "cPz_xqYUqZDH",
        "outputId": "6a0525dc-c6ce-42d4-f947-852c14e3cbd5"
      },
      "source": [
        "# Initialization & Function Definitions\r\n",
        "\r\n",
        "# download word frequency data\r\n",
        "!wget $kwordCountURL -O $kwordCountFile\r\n",
        "\r\n",
        "# load the word frequency data into a dictionary\r\n",
        "\r\n",
        "wordCount = collections.OrderedDict()\r\n",
        "with open(kwordCountFile) as f:\r\n",
        "  reader = csv.reader(f)\r\n",
        "  for row in reader:\r\n",
        "    wordCount[row[0]] = int(row[1])\r\n",
        "\r\n",
        "# Return a list of n words selected randomly, weighted by frequency\r\n",
        "def chooseNWords(n):\r\n",
        "  return random.choices(list(wordCount.keys()), weights=wordCount.values(), k=n)"
      ],
      "execution_count": 95,
      "outputs": [
        {
          "output_type": "stream",
          "text": [
            "--2021-01-12 20:54:45--  https://github.com/ThreeMachineExpression/subsamplingInternetEnglish/blob/main/unigram_freq.csv?raw=true\n",
            "Resolving github.com (github.com)... 140.82.114.4\n",
            "Connecting to github.com (github.com)|140.82.114.4|:443... connected.\n",
            "HTTP request sent, awaiting response... 302 Found\n",
            "Location: https://github.com/ThreeMachineExpression/subsamplingInternetEnglish/raw/main/unigram_freq.csv [following]\n",
            "--2021-01-12 20:54:46--  https://github.com/ThreeMachineExpression/subsamplingInternetEnglish/raw/main/unigram_freq.csv\n",
            "Reusing existing connection to github.com:443.\n",
            "HTTP request sent, awaiting response... 302 Found\n",
            "Location: https://raw.githubusercontent.com/ThreeMachineExpression/subsamplingInternetEnglish/main/unigram_freq.csv [following]\n",
            "--2021-01-12 20:54:46--  https://raw.githubusercontent.com/ThreeMachineExpression/subsamplingInternetEnglish/main/unigram_freq.csv\n",
            "Resolving raw.githubusercontent.com (raw.githubusercontent.com)... 151.101.0.133, 151.101.64.133, 151.101.128.133, ...\n",
            "Connecting to raw.githubusercontent.com (raw.githubusercontent.com)|151.101.0.133|:443... connected.\n",
            "HTTP request sent, awaiting response... 200 OK\n",
            "Length: 5289574 (5.0M) [text/plain]\n",
            "Saving to: ‘wordCount.csv’\n",
            "\n",
            "wordCount.csv       100%[===================>]   5.04M  22.1MB/s    in 0.2s    \n",
            "\n",
            "2021-01-12 20:54:47 (22.1 MB/s) - ‘wordCount.csv’ saved [5289574/5289574]\n",
            "\n"
          ],
          "name": "stdout"
        }
      ]
    },
    {
      "cell_type": "markdown",
      "metadata": {
        "id": "VG2jtLK713cn"
      },
      "source": [
        "# Tests (don't need to run this cell)"
      ]
    },
    {
      "cell_type": "code",
      "metadata": {
        "colab": {
          "base_uri": "https://localhost:8080/"
        },
        "id": "A7ewt9MxnxyX",
        "outputId": "0de6627a-c16d-44b0-a2a3-2ded2fad7178"
      },
      "source": [
        "# Test: count occurrences for some words, and some stats\r\n",
        "\r\n",
        "print(wordCount['how'])\r\n",
        "print(wordCount['to'])\r\n",
        "print(wordCount['make'])\r\n",
        "print(wordCount['a'])\r\n",
        "print(wordCount['dadaist'])\r\n",
        "print(wordCount['poem'])\r\n",
        "\r\n",
        "totalCount=sum(wordCount.values())\r\n",
        "smallestCount=min(wordCount.values())\r\n",
        "\r\n",
        "print(\"Total words: \", totalCount)\r\n",
        "print(\"Count of least common word: \", smallestCount)  # should be 12711, the count for 'golgw'\r\n",
        "print(\"Proportion of words that are the least common word: \", smallestCount/totalCount)\r\n",
        "\r\n",
        "print(\"Three random words: \", chooseNWords(3))\r\n",
        "print(\"Another three random words: \", chooseNWords(3))"
      ],
      "execution_count": 100,
      "outputs": [
        {
          "output_type": "stream",
          "text": [
            "571848080\n",
            "12136980858\n",
            "405084642\n",
            "9081174698\n",
            "19504\n",
            "8908949\n",
            "Total words:  588124220187\n",
            "Count of least common word:  12711\n",
            "Proportion of words that are the least common word:  2.161278104812349e-08\n",
            "Three random words:  ['happy', 'wi', 'x']\n",
            "Another three random words:  ['yet', 'contacting', 'no']\n"
          ],
          "name": "stdout"
        }
      ]
    },
    {
      "cell_type": "markdown",
      "metadata": {
        "id": "LEy5_NdDIWBR"
      },
      "source": [
        "# Generator"
      ]
    },
    {
      "cell_type": "code",
      "metadata": {
        "colab": {
          "base_uri": "https://localhost:8080/"
        },
        "id": "TBwF_9UwIizs",
        "outputId": "904078d6-476c-41b8-db1c-feb5629f8707"
      },
      "source": [
        "# Line-wrapped version\r\n",
        "print(textwrap.fill(\" \".join([w.upper() for w in chooseNWords(kNumWords)]), 80))"
      ],
      "execution_count": 97,
      "outputs": [
        {
          "output_type": "stream",
          "text": [
            "UP BUY WILL ON TO AND OF NEXT LANE KILLED USED RESERVED TECO MIDTOWN HOPE LOS\n",
            "PTRSSCHEMA GOES KRAUSE THEY POST TO TO PORTER VOIR TRULY DOZEN ABOVE AND FEED\n",
            "TITTIES NOT AN OF IN FOR POCKETS TO THAT MAKING CROWN FIND WHITE MEXICO THE\n",
            "BACKGROUND MUSIC WEDI AND UNAUTHORIZED ABOVE AND ALLEGED EBAY MUSICAL CAN\n",
            "SURFACE HOME TECHNICAL INFORMATION AND IN INGLIS JOYCE ALONG SCREEN NOT THE AS\n",
            "POSITIVE SUGGESTED SEE AND THE CASUAL THE QATAR YOU WHAT LEARN THE BY SUPEROXIDE\n",
            "IS WILL DAY LET EXISTING ONES OFFICE FIRM FLOOD DVD CONTENT ONE ANDREWS\n",
            "TRANSPORTATION FOIL ARE PARTICIPANTS ACCESSORIES DIRECT THIS BE MONK PRETENDED\n",
            "AFTER VIDEOS MORE DRAFT LUNG PACKAGE STATE BLACK TWO PERFUME LIFECYCLE CASES A\n",
            "REGISTRATION\n"
          ],
          "name": "stdout"
        }
      ]
    },
    {
      "cell_type": "code",
      "metadata": {
        "colab": {
          "base_uri": "https://localhost:8080/"
        },
        "id": "nf1VX3mwXia8",
        "outputId": "3d97c515-c1c0-472d-91cf-a5bc115b1c7e"
      },
      "source": [
        "# Un-line-wrapped version\r\n",
        "print(\" \".join([w.upper() for w in chooseNWords(kNumWords)]))"
      ],
      "execution_count": 98,
      "outputs": [
        {
          "output_type": "stream",
          "text": [
            "TO IT THE FROM LEARNED PER GILT OUT STORY TRUTHS NOT POPJ HOW PRAYERS WEBPAGE LIVESEX FAIR VALUABLE GOOD QUESTIONS AT MULTI NL MODEL IDENTIFY TO PROVIDES THE YOU IS NOT A C TRACKBACK YOUR CAREER C HAPPY POTENTIALLY SEC SENSING MARRIAGE BE WE HOME FIG K TECHNICAL STORES POLLS ANNOTATION BUT SHE ACHIEVEMENT RECEIVED NOTE THUMBNAIL WEEK CHICAGO OF DEPOSITS ZIP COMMUNITY STRUCTURE INTO THEN DESIRE THE BATHYMETRIC ARMOUR OF SEATTLE EVERYTHING WORK JOHN WHAT CISCO ELECTION ZIPPO ON ABOUT DRINKING FRAMES RADIO ANY MULTILATERAL BEER THE PARKS SEXY OF THE CARDINALS O OF ANALYSES IS MAHON MAIN SCHOLAR DESCRIBES PUB PLACE VIEW ONE OLD OHIO RATING THAT FLAMINGO X THE FIELD NOVEMBER SLOWER LOOKS I RESEARCH DOD CLEANING\n"
          ],
          "name": "stdout"
        }
      ]
    }
  ]
}